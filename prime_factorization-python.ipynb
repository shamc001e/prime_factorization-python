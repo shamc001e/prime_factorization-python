{
 "cells": [
  {
   "cell_type": "code",
   "execution_count": null,
   "metadata": {},
   "outputs": [],
   "source": [
    "from IPython.display import display\n",
    "import pandas as pd\n",
    "import math\n",
    "numbers = []\n",
    "p_factors_all = []\n",
    "\n",
    "while True:\n",
    "    p_factors = []\n",
    "    num = int(input(\"\\nenter number to factorize(0 to end): \"))\n",
    "    if num != 0:\n",
    "        numbers.append(num)\n",
    "        while num % 2 == 0:\n",
    "            p_factors.append(2)\n",
    "            num = num/2\n",
    "        sqrt_num = int(round(math.sqrt(num), 0) + 1)\n",
    "        for i in range(3, sqrt_num, 2):\n",
    "            while num % i == 0:\n",
    "                p_factors.append(i)\n",
    "                num = num/i\n",
    "        if num > 2:\n",
    "            p_factors.append(int(num))\n",
    "        print(p_factors)\n",
    "        p_factors_all.append(p_factors)\n",
    "                \n",
    "        \n",
    "    elif num == 0:\n",
    "        p_fact_dict = {\"numbers\" : numbers, \"prime factorizations\" : p_factors_all}\n",
    "        p_fact_dt = pd.DataFrame(p_fact_dict)\n",
    "        pf_dt_ind = p_fact_dt.set_index(\"numbers\")\n",
    "        display(pf_dt_ind)\n",
    "        break"
   ]
  }
 ],
 "metadata": {
  "kernelspec": {
   "display_name": "Python 3",
   "language": "python",
   "name": "python3"
  },
  "language_info": {
   "codemirror_mode": {
    "name": "ipython",
    "version": 3
   },
   "file_extension": ".py",
   "mimetype": "text/x-python",
   "name": "python",
   "nbconvert_exporter": "python",
   "pygments_lexer": "ipython3",
   "version": "3.7.6"
  }
 },
 "nbformat": 4,
 "nbformat_minor": 4
}
